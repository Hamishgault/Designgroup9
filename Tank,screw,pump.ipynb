{
  "nbformat": 4,
  "nbformat_minor": 0,
  "metadata": {
    "colab": {
      "provenance": []
    },
    "kernelspec": {
      "name": "python3",
      "display_name": "Python 3"
    },
    "language_info": {
      "name": "python"
    }
  },
  "cells": [
    {
      "cell_type": "code",
      "execution_count": null,
      "metadata": {
        "colab": {
          "base_uri": "https://localhost:8080/"
        },
        "id": "o6ckQlOdNeHO",
        "outputId": "cacd543c-352c-4b43-c00b-0eacc12e6860"
      },
      "outputs": [
        {
          "output_type": "stream",
          "name": "stdout",
          "text": [
            "Target mass flow: 50.2 tonnes/day\n",
            "Required volumetric flow: 5.23 m³/hr\n",
            "Displacement per revolution: 0.00515 m³\n",
            "Calculated operating speed: 16.9 RPM\n"
          ]
        }
      ],
      "source": [
        "import math\n",
        "\n",
        "def calculate_feeder_rpm_metric(mass_tpd, bulk_density, feeder_diameter, control_pitch):\n",
        "    \"\"\"\n",
        "    Calculate the operating RPM for a screw feeder in metric units.\n",
        "\n",
        "    Parameters:\n",
        "    - mass_tpd: Mass throughput in tonnes per day.\n",
        "    - bulk_density: Bulk density of the material in kg/m³.\n",
        "    - feeder_diameter: Diameter of the screw feeder in meters.\n",
        "    - control_pitch: Control pitch (length of the final screw flight) in meters.\n",
        "\n",
        "    Returns:\n",
        "    - rpm: Required RPM to achieve the target throughput.\n",
        "    - vol_flow_m3_hr: Required volumetric flow in m³/hr.\n",
        "    - displacement_m3: Displacement per revolution in m³.\n",
        "    \"\"\"\n",
        "    #Convert tonnes per day to kg per day\n",
        "    mass_kg_day = mass_tpd*1000.0\n",
        "    #Convert kg per day to kg per hour\n",
        "    mass_kg_hr = mass_kg_day/24.0\n",
        "\n",
        "    #Calculate the required volumetric flow in m3/hr\n",
        "    vol_flow_m3_hr = mass_kg_hr / bulk_density\n",
        "\n",
        "    #Calculate the cross-sectional area of the screw (in m2)\n",
        "    area_m2 = (math.pi * (feeder_diameter ** 2)) / 4.0\n",
        "\n",
        "    #Calculate displacement per revolution (m3) = area (m2)*control pitch (m)\n",
        "    displacement_m3 = area_m2 * control_pitch\n",
        "\n",
        "    #Calculate required RPM:\n",
        "    #RPM = (volumetric flow in m3/hr) / (displacement per revolution in m3*60 min/hr)\n",
        "    rpm = vol_flow_m3_hr / (displacement_m3 * 60.0)\n",
        "\n",
        "    return rpm, vol_flow_m3_hr, displacement_m3\n",
        "\n",
        "# Example usage:\n",
        "\n",
        "# Design parameters\n",
        "mass_tpd = 50.2            # tonnes per day\n",
        "bulk_density = 400         # kg/m3\n",
        "feeder_diameter = 0.254    # 10 inches ≈ 0.254 m\n",
        "control_pitch = 0.1016     # 4 inches ≈ 0.1016 m\n",
        "\n",
        "rpm, vol_flow, disp = calculate_feeder_rpm_metric(mass_tpd, bulk_density, feeder_diameter, control_pitch)\n",
        "\n",
        "print(f\"Target mass flow: {mass_tpd} tonnes/day\")\n",
        "print(f\"Required volumetric flow: {vol_flow:.3g} m³/hr\")\n",
        "print(f\"Displacement per revolution: {disp:.3g} m³\")\n",
        "print(f\"Calculated operating speed: {rpm:.3g} RPM\")\n"
      ]
    },
    {
      "cell_type": "code",
      "source": [
        "def design_annular_pump(mass_flow=200, operating_temp=850, density=1900,\n",
        "                        gap_thickness=0.01, current_density=1e6, magnetic_field=0.5,\n",
        "                        pump_efficiency=0.5):\n",
        "    \"\"\"\n",
        "    This function estimates the pump energy requirement based on a simplified model\n",
        "    that uses the Lorentz force concept:\n",
        "      - Volumetric flow rate, Q = mass_flow / density\n",
        "      - Lorentz force per unit volume, F = current_density * magnetic_field\n",
        "      - Developed pressure, Δ = F * gap_thickness\n",
        "      - Fluid (mechanical) power, P_fluid = Δ * Q\n",
        "      - Electrical power required = P_fluid / pump_efficiency\n",
        "\n",
        "    Parameters:\n",
        "      mass_flow:       Mass flow rate in kg/s (default: 200 kg/s)\n",
        "      operating_temp:  Operating temperature in °C (default: 850 °C) [not used explicitly here]\n",
        "      density:         Density of molten salt in kg/m³ (default: 1900 kg/m³)\n",
        "      gap_thickness:   Annular duct gap thickness in meters (default: 0.01 m)\n",
        "      current_density: Applied current density in A/m² (default: 1e6 A/m²)\n",
        "      magnetic_field:  Magnetic field strength in Tesla (default: 0.5 T)\n",
        "      pump_efficiency: Overall pump efficiency (default: 0.5 for 50%)\n",
        "\n",
        "    Returns:\n",
        "      Q:                    Volumetric flow rate in m³/s\n",
        "      developed_pressure:   Developed pressure in Pascals\n",
        "      fluid_power:          Mechanical power imparted to the fluid (W)\n",
        "      electrical_power:     Electrical power input required (W)\n",
        "    \"\"\"\n",
        "    # Calculate volumetric flow rate: Q = mass_flow / density\n",
        "    Q = mass_flow / density  # in m³/s\n",
        "\n",
        "    # Calculate Lorentz force per unit volume: F = J * B\n",
        "    F = current_density * magnetic_field  # in N/m³\n",
        "\n",
        "    # Developed pressure  in the annular duct: Δ = F * gap_thickness\n",
        "    developed_pressure = F * gap_thickness  # in Pa\n",
        "\n",
        "    # Mechanical power required: P_fluid = Δ * Q\n",
        "    fluid_power = developed_pressure * Q  # in Watts\n",
        "\n",
        "    # Electrical power input\n",
        "    electrical_power = fluid_power / pump_efficiency  # in Watts\n",
        "\n",
        "    return Q, developed_pressure, fluid_power, electrical_power\n",
        "\n",
        "\n",
        "Q, pressure, fluid_power, elec_power = design_annular_pump()\n",
        "print(\"Design results for Annular Linear Induction Pump:\")\n",
        "print(f\"Volumetric flow rate Q = {Q:.3g} m³/s\")\n",
        "print(f\"Developed pressure = {pressure:.3g} Pa\")\n",
        "print(f\"Fluid power (mechanical) = {fluid_power:.3g} W\")\n",
        "print(f\"Electrical power required = {elec_power:.3g} W\")\n"
      ],
      "metadata": {
        "colab": {
          "base_uri": "https://localhost:8080/"
        },
        "id": "-komOL_xRUsh",
        "outputId": "c6102d0c-1d96-429b-f19f-2b40e8aa3c49"
      },
      "execution_count": null,
      "outputs": [
        {
          "output_type": "stream",
          "name": "stdout",
          "text": [
            "Design results for Annular Linear Induction Pump:\n",
            "Volumetric flow rate Q = 0.105 m³/s\n",
            "Developed pressure = 5e+03 Pa\n",
            "Fluid power (mechanical) = 526 W\n",
            "Electrical power required = 1.05e+03 W\n"
          ]
        }
      ]
    },
    {
      "cell_type": "code",
      "source": [
        "import math\n",
        "\n",
        "def design_molten_salt_tank(\n",
        "    mass_kg=2000,\n",
        "    density_kg_m3=1900,\n",
        "    salt_temp_C=850,\n",
        "    tank_height_m=2.5,\n",
        "    firebrick_bottom_thickness_m=0.762,  # 30 inch\n",
        "    firebrick_side_thickness_m=0.254,   # 10 inch\n",
        "    kaowool_side_thickness_m=0.254,     # 10 inch\n",
        "    kaowool_roof_thickness_m=0.305,     # 12 inch\n",
        "    heater_power_per_kg_W=1.5,\n",
        "    include_wall_thickness=True\n",
        "):\n",
        "    \"\"\"\n",
        "    Calculate tank volume, internal diameter, wall thickness, and insulation layout for molten salt buffer tank with integrated heating.\n",
        "    \"\"\"\n",
        "    # STEP 1: Calculate required molten salt volume\n",
        "    required_volume_m3 = mass_kg / density_kg_m3\n",
        "\n",
        "    # STEP 2: Calculate internal diameter based on height\n",
        "    tank_diameter_internal_m = math.sqrt((4 * required_volume_m3) / (math.pi * tank_height_m))\n",
        "\n",
        "    # STEP 3: Estimate total external diameter including insulation layers\n",
        "    total_side_insulation_thickness_m = firebrick_side_thickness_m + kaowool_side_thickness_m\n",
        "    tank_diameter_external_m = tank_diameter_internal_m + 2 * total_side_insulation_thickness_m\n",
        "\n",
        "    # STEP 4: Estimate total height including roof insulation\n",
        "    total_height_m = tank_height_m + kaowool_roof_thickness_m\n",
        "\n",
        "    # STEP 5: Heater power estimate\n",
        "    heater_power_W = mass_kg * heater_power_per_kg_W\n",
        "\n",
        "    # STEP 6: Add fixed wall thickness from empirical method\n",
        "    if include_wall_thickness:\n",
        "        carbon_steel_wall_thickness_m = 0.0254  # 25.4 mm (1 inch)\n",
        "        ss316_liner_thickness_m = 0.00635       # 6.35 mm (1/4 inch)\n",
        "    else:\n",
        "        carbon_steel_wall_thickness_m = None\n",
        "        ss316_liner_thickness_m = None\n",
        "\n",
        "    # Output summary\n",
        "    return {\n",
        "        \"Molten Salt Volume (m³)\": round(required_volume_m3, 3),\n",
        "        \"Internal Tank Diameter (m)\": round(tank_diameter_internal_m, 2),\n",
        "        \"External Tank Diameter (m)\": round(tank_diameter_external_m, 2),\n",
        "        \"Total Height with Insulation (m)\": round(total_height_m, 2),\n",
        "        \"Recommended Heater Power (W)\": round(heater_power_W),\n",
        "        \"Carbon Steel Wall Thickness (m)\": carbon_steel_wall_thickness_m,\n",
        "        \"SS316 Inner Liner Thickness (m)\": ss316_liner_thickness_m\n",
        "    }\n",
        "\n",
        "\n",
        "# Example Usage\n",
        "if __name__ == \"__main__\":\n",
        "    design_results = design_molten_salt_tank()\n",
        "    print(\"Molten Salt Tank Design with Insulation:\")\n",
        "    for key, value in design_results.items():\n",
        "        print(f\"- {key}: {value}\")\n"
      ],
      "metadata": {
        "colab": {
          "base_uri": "https://localhost:8080/"
        },
        "id": "KpKKHecrVXZL",
        "outputId": "dad8896a-796a-4d57-e340-47629c83f68b"
      },
      "execution_count": null,
      "outputs": [
        {
          "output_type": "stream",
          "name": "stdout",
          "text": [
            "Molten Salt Tank Design with Insulation:\n",
            "- Molten Salt Volume (m³): 1.053\n",
            "- Internal Tank Diameter (m): 0.73\n",
            "- External Tank Diameter (m): 1.75\n",
            "- Total Height with Insulation (m): 2.81\n",
            "- Recommended Heater Power (W): 3000\n",
            "- Carbon Steel Wall Thickness (m): 0.0254\n",
            "- SS316 Inner Liner Thickness (m): 0.00635\n"
          ]
        }
      ]
    }
  ]
}